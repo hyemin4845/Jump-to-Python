{
 "cells": [
  {
   "cell_type": "markdown",
   "metadata": {},
   "source": [
    "# 02-1 숫자형"
   ]
  },
  {
   "cell_type": "code",
   "execution_count": 1,
   "metadata": {},
   "outputs": [
    {
     "name": "stdout",
     "output_type": "stream",
     "text": [
      "70.0\n"
     ]
    }
   ],
   "source": [
    "# [문제1] 점수의 평균\n",
    "a = 80\n",
    "b = 75\n",
    "c = 55\n",
    "d = (a+b+c)/3\n",
    "print(d)"
   ]
  },
  {
   "cell_type": "code",
   "execution_count": 7,
   "metadata": {},
   "outputs": [
    {
     "name": "stdout",
     "output_type": "stream",
     "text": [
      "1\n",
      "0\n"
     ]
    }
   ],
   "source": [
    "# [문제2] 자연수의 홀짝\n",
    "a = 1 % 2\n",
    "b = 2 % 2\n",
    "print(a)\n",
    "print(b)\n",
    "# %연산을 이용했을때 나머지가 1이면 홀수 0이면 짝수"
   ]
  },
  {
   "cell_type": "markdown",
   "metadata": {},
   "source": [
    "# 02-2 문자열 자료형"
   ]
  },
  {
   "cell_type": "code",
   "execution_count": 8,
   "metadata": {},
   "outputs": [
    {
     "name": "stdout",
     "output_type": "stream",
     "text": [
      "88112\n",
      "1068234\n"
     ]
    }
   ],
   "source": [
    "# [문제1] 문자열 나누기\n",
    "# a[시작 번호:끝 번호]를 지정하면 끝 번호에 해당하는 것은 포함되지 않는다.\n",
    "a = \"881120-1068234\"\n",
    "ymd = a[:5]\n",
    "number = a[7:]\n",
    "print(ymd)\n",
    "print(number)"
   ]
  },
  {
   "cell_type": "code",
   "execution_count": 9,
   "metadata": {},
   "outputs": [
    {
     "data": {
      "text/plain": [
       "'1'"
      ]
     },
     "execution_count": 9,
     "metadata": {},
     "output_type": "execute_result"
    }
   ],
   "source": [
    "# [문제2] 문자열 인덱싱\n",
    "pin = \"881120-1068234\"\n",
    "a[7]"
   ]
  },
  {
   "cell_type": "code",
   "execution_count": 14,
   "metadata": {},
   "outputs": [
    {
     "name": "stdout",
     "output_type": "stream",
     "text": [
      "a#b#c#d\n"
     ]
    }
   ],
   "source": [
    "# [문제3] 문자열 바꾸기1 - replace함수를 이용\n",
    "s = \"a:b:c:d\"\n",
    "s1 = s.replace(\":\", \"#\")\n",
    "print(s1)"
   ]
  },
  {
   "cell_type": "code",
   "execution_count": 17,
   "metadata": {},
   "outputs": [
    {
     "data": {
      "text/plain": [
       "'a#b#c#d'"
      ]
     },
     "execution_count": 17,
     "metadata": {},
     "output_type": "execute_result"
    }
   ],
   "source": [
    "# [문제4] 문자열 바꾸기2 - split와 join 함수를 이용\n",
    "s = \"a:b:c:d\"\n",
    "s.split(\":\")\n",
    "\"#\".join(\"abcd\")"
   ]
  },
  {
   "cell_type": "markdown",
   "metadata": {},
   "source": [
    "# 02-3 리스트 자료형"
   ]
  },
  {
   "cell_type": "code",
   "execution_count": 21,
   "metadata": {},
   "outputs": [
    {
     "name": "stdout",
     "output_type": "stream",
     "text": [
      "Life is too short\n"
     ]
    }
   ],
   "source": [
    "# [문제1] 리스트 조인\n",
    "a = ['Life', 'is', 'too', 'short']\n",
    "a1 = \" \".join(a)\n",
    "print(a1)"
   ]
  },
  {
   "cell_type": "code",
   "execution_count": 23,
   "metadata": {},
   "outputs": [
    {
     "name": "stdout",
     "output_type": "stream",
     "text": [
      "[5, 4, 3, 2, 1]\n"
     ]
    }
   ],
   "source": [
    "# [문제2] 리스트 정렬 - 리스트의 내장함수인 sort와 reverse를 활용\n",
    "a = [1, 3, 5, 4, 2]\n",
    "a.sort()\n",
    "a.reverse()\n",
    "print(a)"
   ]
  },
  {
   "cell_type": "markdown",
   "metadata": {},
   "source": [
    "# 02-4 튜플 자료형"
   ]
  },
  {
   "cell_type": "code",
   "execution_count": 26,
   "metadata": {},
   "outputs": [
    {
     "name": "stdout",
     "output_type": "stream",
     "text": [
      "(1, 2, 3, 4)\n"
     ]
    }
   ],
   "source": [
    "# [문제1] 튜플 추가\n",
    "t1 = (1, 2, 3)\n",
    "t2 = (4,)\n",
    "# 튜플은 단지 1개의 요소만을 가질 때에도 요소 뒤에 ,를 반드시 붙여아 한다.\n",
    "t1 + t2\n",
    "print(t1 + t2)"
   ]
  }
 ],
 "metadata": {
  "kernelspec": {
   "display_name": "Python 3",
   "language": "python",
   "name": "python3"
  },
  "language_info": {
   "codemirror_mode": {
    "name": "ipython",
    "version": 3
   },
   "file_extension": ".py",
   "mimetype": "text/x-python",
   "name": "python",
   "nbconvert_exporter": "python",
   "pygments_lexer": "ipython3",
   "version": "3.6.7"
  }
 },
 "nbformat": 4,
 "nbformat_minor": 2
}
